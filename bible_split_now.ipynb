{
 "cells": [
  {
   "cell_type": "code",
   "execution_count": 1,
   "id": "552e060a-3c9a-4972-9914-4b47076e7629",
   "metadata": {},
   "outputs": [],
   "source": [
    "import pandas as pd\n",
    "import ast\n",
    "from json import loads, dumps\n",
    "import numpy as np\n",
    "import matplotlib.pyplot as plt\n",
    "%matplotlib inline"
   ]
  },
  {
   "cell_type": "code",
   "execution_count": 2,
   "id": "97149531-8e93-4c68-9d61-b8b224e87b51",
   "metadata": {},
   "outputs": [],
   "source": [
    "bible = []\n",
    "\n",
    "with open('./bible_jsons/kjv.json') as f:\n",
    "    for line in f:\n",
    "        bible.append(ast.literal_eval(line.strip()))"
   ]
  },
  {
   "cell_type": "code",
   "execution_count": 3,
   "id": "c6fddee9-cf41-4013-99b8-c7b5fe204a01",
   "metadata": {},
   "outputs": [],
   "source": [
    "bible_df = pd.DataFrame(bible)\n",
    "bible_df = bible_df[['book_id', 'chapter', 'verse']]\n",
    "\n",
    "book_order = list(bible_df['book_id'].unique())\n",
    "\n",
    "bible_df = bible_df.groupby(['book_id','chapter'], as_index=False)['verse'].count()"
   ]
  },
  {
   "cell_type": "code",
   "execution_count": 4,
   "id": "2dcc3140-31e5-49db-a405-07790d9572d7",
   "metadata": {},
   "outputs": [
    {
     "data": {
      "text/html": [
       "<div>\n",
       "<style scoped>\n",
       "    .dataframe tbody tr th:only-of-type {\n",
       "        vertical-align: middle;\n",
       "    }\n",
       "\n",
       "    .dataframe tbody tr th {\n",
       "        vertical-align: top;\n",
       "    }\n",
       "\n",
       "    .dataframe thead th {\n",
       "        text-align: right;\n",
       "    }\n",
       "</style>\n",
       "<table border=\"1\" class=\"dataframe\">\n",
       "  <thead>\n",
       "    <tr style=\"text-align: right;\">\n",
       "      <th></th>\n",
       "      <th>book_id</th>\n",
       "      <th>chapter</th>\n",
       "      <th>verse</th>\n",
       "    </tr>\n",
       "  </thead>\n",
       "  <tbody>\n",
       "    <tr>\n",
       "      <th>0</th>\n",
       "      <td>Gen</td>\n",
       "      <td>1</td>\n",
       "      <td>31</td>\n",
       "    </tr>\n",
       "    <tr>\n",
       "      <th>1</th>\n",
       "      <td>Gen</td>\n",
       "      <td>2</td>\n",
       "      <td>25</td>\n",
       "    </tr>\n",
       "    <tr>\n",
       "      <th>2</th>\n",
       "      <td>Gen</td>\n",
       "      <td>3</td>\n",
       "      <td>24</td>\n",
       "    </tr>\n",
       "    <tr>\n",
       "      <th>3</th>\n",
       "      <td>Gen</td>\n",
       "      <td>4</td>\n",
       "      <td>26</td>\n",
       "    </tr>\n",
       "    <tr>\n",
       "      <th>4</th>\n",
       "      <td>Gen</td>\n",
       "      <td>5</td>\n",
       "      <td>32</td>\n",
       "    </tr>\n",
       "    <tr>\n",
       "      <th>...</th>\n",
       "      <td>...</td>\n",
       "      <td>...</td>\n",
       "      <td>...</td>\n",
       "    </tr>\n",
       "    <tr>\n",
       "      <th>1184</th>\n",
       "      <td>Rev</td>\n",
       "      <td>18</td>\n",
       "      <td>24</td>\n",
       "    </tr>\n",
       "    <tr>\n",
       "      <th>1185</th>\n",
       "      <td>Rev</td>\n",
       "      <td>19</td>\n",
       "      <td>21</td>\n",
       "    </tr>\n",
       "    <tr>\n",
       "      <th>1186</th>\n",
       "      <td>Rev</td>\n",
       "      <td>20</td>\n",
       "      <td>15</td>\n",
       "    </tr>\n",
       "    <tr>\n",
       "      <th>1187</th>\n",
       "      <td>Rev</td>\n",
       "      <td>21</td>\n",
       "      <td>27</td>\n",
       "    </tr>\n",
       "    <tr>\n",
       "      <th>1188</th>\n",
       "      <td>Rev</td>\n",
       "      <td>22</td>\n",
       "      <td>21</td>\n",
       "    </tr>\n",
       "  </tbody>\n",
       "</table>\n",
       "<p>1189 rows × 3 columns</p>\n",
       "</div>"
      ],
      "text/plain": [
       "     book_id  chapter  verse\n",
       "0        Gen        1     31\n",
       "1        Gen        2     25\n",
       "2        Gen        3     24\n",
       "3        Gen        4     26\n",
       "4        Gen        5     32\n",
       "...      ...      ...    ...\n",
       "1184     Rev       18     24\n",
       "1185     Rev       19     21\n",
       "1186     Rev       20     15\n",
       "1187     Rev       21     27\n",
       "1188     Rev       22     21\n",
       "\n",
       "[1189 rows x 3 columns]"
      ]
     },
     "execution_count": 4,
     "metadata": {},
     "output_type": "execute_result"
    }
   ],
   "source": [
    "def book_sorter(column):\n",
    "    correspondence = {team: order for order, team in enumerate(book_order)}\n",
    "    return column.map(correspondence)\n",
    "\n",
    "bible_df = bible_df.sort_values(by=['book_id', 'chapter'], key=book_sorter).reset_index(drop=True)  \n",
    "bible_df"
   ]
  },
  {
   "cell_type": "code",
   "execution_count": 5,
   "id": "972de4e0-e706-4190-bcde-d951c31616c2",
   "metadata": {},
   "outputs": [
    {
     "name": "stdout",
     "output_type": "stream",
     "text": [
      "<class 'list'>\n"
     ]
    },
    {
     "data": {
      "text/plain": [
       "[{'book_id': 'Gen', 'chapter': 1, 'verse': 31},\n",
       " {'book_id': 'Gen', 'chapter': 2, 'verse': 25},\n",
       " {'book_id': 'Gen', 'chapter': 3, 'verse': 24},\n",
       " {'book_id': 'Gen', 'chapter': 4, 'verse': 26},\n",
       " {'book_id': 'Gen', 'chapter': 5, 'verse': 32},\n",
       " {'book_id': 'Gen', 'chapter': 6, 'verse': 22},\n",
       " {'book_id': 'Gen', 'chapter': 7, 'verse': 24},\n",
       " {'book_id': 'Gen', 'chapter': 8, 'verse': 22},\n",
       " {'book_id': 'Gen', 'chapter': 9, 'verse': 29},\n",
       " {'book_id': 'Gen', 'chapter': 10, 'verse': 32}]"
      ]
     },
     "execution_count": 5,
     "metadata": {},
     "output_type": "execute_result"
    }
   ],
   "source": [
    "bible_dict = bible_df.to_dict('records')\n",
    "print(type(bible_dict))\n",
    "bible_dict[:10]"
   ]
  },
  {
   "cell_type": "code",
   "execution_count": 6,
   "id": "b153fda4-e336-4b19-9f22-dccf68044a6e",
   "metadata": {},
   "outputs": [
    {
     "name": "stdout",
     "output_type": "stream",
     "text": [
      "Number of days (w/ weekly day-off): 312\n",
      "Total verses in Bible: 31102\n",
      "Total chapters in Bible: 1189\n",
      "Verses per day: 99\n",
      "Chapters per day: 3\n"
     ]
    }
   ],
   "source": [
    "days = int(365 * (6/7))\n",
    "print(f\"Number of days (w/ weekly day-off): {days}\")\n",
    "\n",
    "total_verses = bible_df['verse'].sum()\n",
    "print(f\"Total verses in Bible: {total_verses}\")\n",
    "\n",
    "total_chapters = len(bible_dict)\n",
    "print(f\"Total chapters in Bible: {total_chapters}\")\n",
    "\n",
    "verses_per_day = int(total_verses / days)\n",
    "print(f\"Verses per day: {verses_per_day}\")\n",
    "\n",
    "chapters_per_day = int(total_chapters / days)\n",
    "print(f\"Chapters per day: {chapters_per_day}\")"
   ]
  },
  {
   "cell_type": "code",
   "execution_count": 7,
   "id": "e630507a-c3a0-402d-8ef9-0e97d553f958",
   "metadata": {},
   "outputs": [
    {
     "data": {
      "text/plain": [
       "Text(0.5, 0, 'Verse distribution')"
      ]
     },
     "execution_count": 7,
     "metadata": {},
     "output_type": "execute_result"
    },
    {
     "data": {
      "image/png": "[encoded data removed]",
      "text/plain": [
       "<Figure size 640x480 with 1 Axes>"
      ]
     },
     "metadata": {},
     "output_type": "display_data"
    }
   ],
   "source": [
    "plt.hist(bible_df['verse'], density=False, bins=30)\n",
    "plt.ylabel('Counts')\n",
    "plt.xlabel('Verse distribution')"
   ]
  },
  {
   "cell_type": "code",
   "execution_count": 8,
   "id": "8d4d5c40-e6bf-4b17-bd07-191b9df6524f",
   "metadata": {},
   "outputs": [],
   "source": [
    "# Iteration 1: Split chapters directly by day\n",
    "\n",
    "bible_splits = np.array_split(bible_dict, days)\n",
    "sum_list = []\n",
    "\n",
    "for item in bible_splits:\n",
    "    summ = 0\n",
    "    for verse in item:\n",
    "        summ += verse['verse']\n",
    "    sum_list.append(summ)\n",
    "    \n",
    "assert len(sum_list) == days"
   ]
  },
  {
   "cell_type": "code",
   "execution_count": 9,
   "id": "82a67687-97b9-486e-9456-c14f2b1a8d76",
   "metadata": {},
   "outputs": [
    {
     "data": {
      "text/plain": [
       "Text(0.5, 0, 'Verses by day')"
      ]
     },
     "execution_count": 9,
     "metadata": {},
     "output_type": "execute_result"
    },
    {
     "data": {
      "image/png": "[encoded data removed]",
      "text/plain": [
       "<Figure size 640x480 with 1 Axes>"
      ]
     },
     "metadata": {},
     "output_type": "display_data"
    }
   ],
   "source": [
    "plt.hist(sum_list, density=False, bins=30)\n",
    "plt.ylabel('Counts')\n",
    "plt.xlabel('Verses by day')"
   ]
  },
  {
   "cell_type": "code",
   "execution_count": 10,
   "id": "8cb25e47-39f7-4205-b059-f81945f83bf6",
   "metadata": {},
   "outputs": [],
   "source": [
    "# Iteration 2: Split chapters by verse count as close as possible to daily average\n",
    "\n",
    "bible_splits = [list(i) for i in bible_splits]\n",
    "bible_splits_sum = [{'split': split, 'sum': sum_list[index]} for index, split in enumerate(bible_splits)]"
   ]
  },
  {
   "cell_type": "code",
   "execution_count": 11,
   "id": "14088bee-ae21-499f-b378-f9405c5a71c6",
   "metadata": {},
   "outputs": [
    {
     "name": "stderr",
     "output_type": "stream",
     "text": [
      "IOPub data rate exceeded.\n",
      "The Jupyter server will temporarily stop sending output\n",
      "to the client in order to avoid crashing it.\n",
      "To change this limit, set the config variable\n",
      "`--ServerApp.iopub_data_rate_limit`.\n",
      "\n",
      "Current values:\n",
      "ServerApp.iopub_data_rate_limit=1000000.0 (bytes/sec)\n",
      "ServerApp.rate_limit_window=3.0 (secs)\n",
      "\n"
     ]
    }
   ],
   "source": [
    "bible_split = []\n",
    "bible_split_indexes = []\n",
    "\n",
    "for curr_ind, curr_chapter in enumerate(bible_dict):\n",
    "    print(\"= = = = = = = = = = = = = = = =\")\n",
    "    #print(curr_ind)\n",
    "    #print(bible_split)\n",
    "    #print(bible_split_indexes)\n",
    "    if curr_ind not in bible_split_indexes:\n",
    "        curr_split = [curr_chapter]\n",
    "        bible_split_indexes.append(curr_ind)\n",
    "\n",
    "        for next_ind, next_chapter in enumerate(bible_dict[curr_ind + 1:]): # loop through all subsequent chapters\n",
    "            curr_split_verse_sum = sum([i['verse'] for i in curr_split])\n",
    "            next_split = curr_split + [bible_dict[curr_ind + next_ind + 1]]\n",
    "            next_split_verse_sum = sum([i['verse'] for i in next_split])\n",
    "            print(curr_ind + next_ind + 1)\n",
    "            if curr_ind + next_ind + 1 == len(bible_dict) - 1: # for last chapter in list, close out\n",
    "                print(\"Reached last item\")\n",
    "                bible_split.append(curr_split)\n",
    "                break\n",
    "            elif (next_split_verse_sum - verses_per_day > verses_per_day - curr_split_verse_sum):\n",
    "                # if next split verse count diff from average is larger than previous split\n",
    "                print(\"Too many new verses - stop adding chapters\")\n",
    "                bible_split.append(curr_split)\n",
    "                print(bible_split)\n",
    "                break # do not add split, keep current_split as is and exit\n",
    "            else:\n",
    "                print(f\"Add another split with index {curr_ind + next_ind + 1}\")\n",
    "                print(f\"next_split: {next_split_verse_sum - verses_per_day} - curr_split: {verses_per_day - curr_split_verse_sum}\")\n",
    "                bible_split_indexes.append(curr_ind + next_ind + 1)\n",
    "                curr_split = next_split\n",
    "                continue # Add another split\n",
    "    else:\n",
    "        print(f\"Chapter index {curr_ind} skipped\")"
   ]
  },
  {
   "cell_type": "code",
   "execution_count": 12,
   "id": "8e631c46-1824-42ad-9000-7bb3db120e60",
   "metadata": {},
   "outputs": [
    {
     "name": "stdout",
     "output_type": "stream",
     "text": [
      "315 splits generated\n"
     ]
    }
   ],
   "source": [
    "print(f\"{len(bible_split)} splits generated\")"
   ]
  },
  {
   "cell_type": "raw",
   "id": "66f30ec4-45d8-43c1-aab8-06b68558ced7",
   "metadata": {},
   "source": [
    "diff = verses_per_day\n",
    "intermediate_sum = 0\n",
    "intermediate_split = [] # Dict containing smaller temporary splits\n",
    "bible_split = [] # Dict containing all final splits\n",
    "\n",
    "for index, item in enumerate(bible_dict[:10]):\n",
    "    print(index)\n",
    "    if not intermediate_split:\n",
    "        intermediate_split.append(item)\n",
    "    elif item in intermediate_split:\n",
    "        continue\n",
    "    intermediate_sum = sum([i['verse'] for i in intermediate_split])\n",
    "    \n",
    "    if verses_per_day < intermediate_sum:\n",
    "        #try:\n",
    "        provisional_split = intermediate_split\n",
    "        provisional_split.append(bible_dict(index + 1))\n",
    "        provisional_sum = sum([i['verse'] for i in provisional_split])\n",
    "\n",
    "        if verses_per_day < provisional_sum:\n",
    "            bible_split.append(intermediate_split)\n",
    "        else:\n",
    "            intermediate_split.append(item)\n",
    "                \n",
    "        #except Exception as e:\n",
    "        #    print(e)\n",
    "    \n",
    "    elif verses_per_day > intermediate_sum:\n",
    "        intermediate_split.append(item)"
   ]
  },
  {
   "cell_type": "raw",
   "id": "99b94289-aa72-4dab-8c7c-ae52b91b1457",
   "metadata": {},
   "source": [
    "intermediate_sum = 0\n",
    "bible_split = []\n",
    "\n",
    "while bible_dict: # Loop while bible_dict still has unadded chapters\n",
    "    current_split = [bible_dict[0]]\n",
    "    for ind, chapter in enumerate(bible_dict[1:]):\n",
    "        current_split.append(chapter)\n",
    "        current_split_verse_sum = sum([i['verse'] for i in current_split])\n",
    "        print(bible_dict[ind + 1])\n",
    "        next_split = current_split + [bible_dict[ind + 1]]\n",
    "        next_split_verse_sum = sum([i['verse'] for i in next_split])\n",
    "        \"\"\"\n",
    "        if current_split_verse_sum <= next_split_verse_sum <= verses_per_day:\n",
    "            continue # add another split\n",
    "        elif verses_per_day < next_split_verse_sum:\n",
    "            if abs(next_split_verse_sum - verses_per_day) <= abs(current_split_verse_sum - verses_per_day):\n",
    "                continue # add another split\n",
    "            else:\n",
    "                break # do not add split, keep current_split as is and exit            \n",
    "        \"\"\"\n",
    "        if next_split_verse_sum - verses_per_day > verses_per_day - current_split_verse_sum:\n",
    "            bible_split.append(current_split)\n",
    "            print(len(bible_dict))\n",
    "            del bible_dict[:ind]\n",
    "            print(len(bible_dict))\n",
    "            break # do not add split, keep current_split as is and exit\n",
    "        else:\n",
    "            print(\"continue\")\n",
    "            print(f\"next_split_verse_sum - verses_per_day: {next_split_verse_sum - verses_per_day}\")\n",
    "            print(f\"verses_per_day - current_split_verse_sum: {verses_per_day - current_split_verse_sum}\")\n",
    "            continue # add another split\n",
    "            \n",
    "len(bible_split)"
   ]
  },
  {
   "cell_type": "code",
   "execution_count": null,
   "id": "b101c77e-cec1-4734-b712-747d45451767",
   "metadata": {},
   "outputs": [],
   "source": []
  }
 ],
 "metadata": {
  "kernelspec": {
   "display_name": "eden_gis",
   "language": "python",
   "name": "eden_gis"
  },
  "language_info": {
   "codemirror_mode": {
    "name": "ipython",
    "version": 3
   },
   "file_extension": ".py",
   "mimetype": "text/x-python",
   "name": "python",
   "nbconvert_exporter": "python",
   "pygments_lexer": "ipython3",
   "version": "3.7.16"
  }
 },
 "nbformat": 4,
 "nbformat_minor": 5
}
